{
 "cells": [
  {
   "cell_type": "code",
   "execution_count": 41,
   "metadata": {
    "collapsed": true,
    "ExecuteTime": {
     "start_time": "2024-02-08T23:46:59.637955Z",
     "end_time": "2024-02-08T23:46:59.644894Z"
    }
   },
   "outputs": [],
   "source": [
    "import json\n",
    "import openai\n",
    "import pickle\n",
    "\n",
    "\n",
    "model_id = \"gpt-4\"\n",
    "API_key = \"\"\n",
    "openai.api_key=API_key\n",
    "\n",
    "path_to_data = \"/submission_X\"\n",
    "f = open(path_to_data)\n",
    "data = json.load(f)\n",
    "response_to_eval = {}\n",
    "\n",
    "with open(\"response_validation_turns\", 'r') as f:\n",
    "    data_turns = f.readlines()\n",
    "\n",
    "selected_turns = [elem.strip() for elem in data_turns]\n",
    "\n",
    "for turn in data[\"turns\"]:\n",
    "    for response in turn[\"responses\"]:\n",
    "        turn_id = turn[\"turn_id\"]\n",
    "        if turn_id in selected_turns:\n",
    "            if (response[\"rank\"] == 1) or (response[\"rank\"] == \"1\"):\n",
    "                response_to_eval[turn_id] = response[\"text\"]"
   ]
  },
  {
   "cell_type": "code",
   "execution_count": 43,
   "outputs": [],
   "source": [
    "prompts_per_turn = {}\n",
    "\n",
    "prompt_naturallness = \"\"\"\n",
    "I will give you a text, you should evaluate the naturalness of the given text. You should say to what grade this text is natural.\n",
    "Text: {answer}\n",
    "Score 4 means a very natural and human-like text and 0 means a completely not natural text. Please only select an integer number between 0-4 to indicate the naturalness of the text.\n",
    "\"\"\"\n",
    "for turn_id in response_to_eval:\n",
    "    prompts_per_turn[turn_id] = prompt_naturallness.format(answer = response_to_eval[turn_id])\n",
    "\n"
   ],
   "metadata": {
    "collapsed": false,
    "ExecuteTime": {
     "start_time": "2024-02-08T23:47:01.159978Z",
     "end_time": "2024-02-08T23:47:01.317411Z"
    }
   }
  },
  {
   "cell_type": "code",
   "execution_count": 45,
   "outputs": [],
   "source": [
    "def chatgpt_conversation(conversation_Log):\n",
    "  response = openai.ChatCompletion.create(\n",
    "      model = model_id,\n",
    "      messages = conversation_Log\n",
    "  )\n",
    "  conversation_Log.append({'role':response.choices[0].message.role ,'content':response.choices[0].message.content.strip()})\n",
    "  return conversation_Log\n",
    "\n",
    "def run_one_sample(init_prompt):\n",
    "\n",
    "    conversations = []\n",
    "    conversations.append({'role': 'user', 'content': init_prompt})\n",
    "    conversations = chatgpt_conversation(conversations)\n",
    "    answer_r_prime = conversations[-1]['content'].strip()\n",
    "    print(init_prompt)\n",
    "    print(\"********************\")\n",
    "    print(answer_r_prime)\n",
    "    print(\"**************************************\")\n",
    "    return answer_r_prime\n"
   ],
   "metadata": {
    "collapsed": false,
    "ExecuteTime": {
     "start_time": "2024-02-08T23:47:02.628671Z",
     "end_time": "2024-02-08T23:47:02.633787Z"
    }
   }
  },
  {
   "cell_type": "code",
   "execution_count": null,
   "outputs": [],
   "source": [
    "\n",
    "scores = {}\n",
    "counter = 0\n",
    "\n",
    "for turn_id in prompts_per_turn:\n",
    "    counter +=1\n",
    "    if counter>=0:\n",
    "        X = run_one_sample(prompts_per_turn[turn_id])\n",
    "        scores[turn_id] = X\n",
    "        print(X)"
   ],
   "metadata": {
    "collapsed": false,
    "ExecuteTime": {
     "start_time": "2024-02-08T23:47:04.026396Z",
     "end_time": "2024-02-08T23:48:01.969504Z"
    }
   }
  },
  {
   "cell_type": "code",
   "execution_count": 48,
   "outputs": [
    {
     "data": {
      "text/plain": "73"
     },
     "execution_count": 48,
     "metadata": {},
     "output_type": "execute_result"
    }
   ],
   "source": [
    "len(scores)"
   ],
   "metadata": {
    "collapsed": false,
    "ExecuteTime": {
     "start_time": "2024-02-08T23:48:01.965695Z",
     "end_time": "2024-02-08T23:48:01.979825Z"
    }
   }
  },
  {
   "cell_type": "code",
   "execution_count": 49,
   "outputs": [],
   "source": [
    "lines = []\n",
    "\n",
    "for turn_id in scores:\n",
    "    line = turn_id + '\\tsubmission-X\\t' +scores[turn_id] +'\\n'\n",
    "    lines.append(line)\n",
    "\n",
    "with open('/naturallness_judgement-gpt4-submission-X.txt', 'w') as f:\n",
    "    f.writelines(lines)"
   ],
   "metadata": {
    "collapsed": false,
    "ExecuteTime": {
     "start_time": "2024-02-08T23:48:01.975237Z",
     "end_time": "2024-02-08T23:48:01.980070Z"
    }
   }
  },
  {
   "cell_type": "code",
   "execution_count": 12,
   "outputs": [
    {
     "name": "stdout",
     "output_type": "stream",
     "text": [
      "3.3424657534246576\n"
     ]
    }
   ],
   "source": [
    "import numpy as np\n",
    "\n",
    "print(np.mean([int(score) for score in scores]))"
   ],
   "metadata": {
    "collapsed": false,
    "ExecuteTime": {
     "start_time": "2023-11-09T20:25:34.378428Z",
     "end_time": "2023-11-09T20:25:34.504341Z"
    }
   }
  },
  {
   "cell_type": "code",
   "execution_count": null,
   "outputs": [],
   "source": [],
   "metadata": {
    "collapsed": false
   }
  }
 ],
 "metadata": {
  "kernelspec": {
   "display_name": "Python 3",
   "language": "python",
   "name": "python3"
  },
  "language_info": {
   "codemirror_mode": {
    "name": "ipython",
    "version": 2
   },
   "file_extension": ".py",
   "mimetype": "text/x-python",
   "name": "python",
   "nbconvert_exporter": "python",
   "pygments_lexer": "ipython2",
   "version": "2.7.6"
  }
 },
 "nbformat": 4,
 "nbformat_minor": 0
}
