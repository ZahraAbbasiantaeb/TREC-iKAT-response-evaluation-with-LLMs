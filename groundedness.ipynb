{
 "cells": [
  {
   "cell_type": "code",
   "execution_count": 73,
   "outputs": [],
   "source": [
    "import json\n",
    "import openai\n",
    "import pickle\n",
    "\n",
    "\n",
    "model_id = \"gpt-4\"\n",
    "API_key = \"\"\n",
    "openai.api_key=API_key\n",
    "\n",
    "path_to_data = \"/submission_X\"\n",
    "f = open(path_to_data)\n",
    "data = json.load(f)\n",
    "passages_response = {}\n",
    "\n",
    "with open(\"response_validation_turns\", 'r') as f:\n",
    "    data_turns = f.readlines()\n",
    "\n",
    "selected_turns = [elem.strip() for elem in data_turns]\n",
    "\n",
    "for turn in data[\"turns\"]:\n",
    "    for response in turn[\"responses\"]:\n",
    "        turn_id = turn[\"turn_id\"]\n",
    "        if turn_id in selected_turns:\n",
    "            if (response[\"rank\"] == 1) or (response[\"rank\"] == \"1\"):\n",
    "                passages_response[turn_id] = {}\n",
    "                res_text = response[\"text\"]\n",
    "                passages_response[turn_id][\"response\"] = res_text\n",
    "                passages_response[turn_id][\"documents\"] = []\n",
    "                for passage in response[\"passage_provenance\"]:\n",
    "                    if \"used\" in passage:\n",
    "                        if passage[\"used\"] == True:\n",
    "                            print(\"yesss\")\n",
    "                            passages_response[turn_id][\"documents\"].append(passage[\"text\"])\n",
    "\n"
   ],
   "metadata": {
    "collapsed": false,
    "ExecuteTime": {
     "start_time": "2023-11-08T14:50:47.291587Z",
     "end_time": "2023-11-08T14:50:47.940128Z"
    }
   }
  },
  {
   "cell_type": "code",
   "execution_count": null,
   "outputs": [],
   "source": [
    "def chatgpt_conversation(conversation_Log):\n",
    "  response = openai.ChatCompletion.create(\n",
    "      model = model_id,\n",
    "      messages = conversation_Log\n",
    "  )\n",
    "  conversation_Log.append({'role':response.choices[0].message.role ,'content':response.choices[0].message.content.strip()})\n",
    "  return conversation_Log\n",
    "\n",
    "def run_one_sample(init_prompt):\n",
    "\n",
    "    conversations = []\n",
    "    conversations.append({'role': 'user', 'content': init_prompt})\n",
    "    conversations = chatgpt_conversation(conversations)\n",
    "    answer_r_prime = conversations[-1]['content'].strip()\n",
    "    print(init_prompt)\n",
    "    print(\"********************\")\n",
    "    print(answer_r_prime)\n",
    "    print(\"**************************************\")\n",
    "    return answer_r_prime\n",
    "\n"
   ],
   "metadata": {
    "collapsed": false
   }
  },
  {
   "cell_type": "code",
   "execution_count": 90,
   "outputs": [
    {
     "name": "stdout",
     "output_type": "stream",
     "text": [
      "[0.999, 0.998, 0.997, 0.996, 0.995]\n",
      "[0.999, 0.998, 0.997, 0.996, 0.995]\n",
      "[0.999, 0.998, 0.997, 0.996, 0.995]\n",
      "[0.999, 0.998, 0.997, 0.996, 0.995]\n",
      "[0.999, 0.998, 0.997, 0.996, 0.995]\n",
      "[0.999, 0.998, 0.997, 0.996, 0.995]\n",
      "[0.999, 0.998, 0.997, 0.996, 0.995]\n",
      "[0.999, 0.998, 0.997, 0.996, 0.995]\n",
      "[0.999, 0.998, 0.997, 0.996, 0.995]\n",
      "[0.999, 0.998, 0.997, 0.996, 0.995]\n",
      "[0.999, 0.998, 0.997, 0.996, 0.995]\n",
      "[0.999, 0.998, 0.997, 0.996, 0.995]\n",
      "[0.999, 0.998, 0.997, 0.996, 0.995]\n",
      "[0.999, 0.998, 0.997, 0.996, 0.995]\n",
      "[0.999, 0.998, 0.997, 0.996, 0.995]\n",
      "[0.999, 0.998, 0.997, 0.996, 0.995]\n",
      "[0.999, 0.998, 0.997, 0.996, 0.995]\n",
      "[0.999, 0.998, 0.997, 0.996, 0.995]\n",
      "[0.999, 0.998, 0.997, 0.996, 0.995]\n",
      "[0.999, 0.998, 0.997, 0.996, 0.995]\n",
      "[0.999, 0.998, 0.997, 0.996, 0.995]\n",
      "[0.999, 0.998, 0.997, 0.996, 0.995]\n",
      "[0.999, 0.998, 0.997, 0.996, 0.995]\n",
      "[0.999, 0.998, 0.997, 0.996, 0.995]\n",
      "[0.999, 0.998, 0.997, 0.996, 0.995]\n",
      "[0.999, 0.998, 0.997, 0.996, 0.995]\n",
      "[0.999, 0.998, 0.997, 0.996, 0.995]\n",
      "[0.999, 0.998, 0.997, 0.996, 0.995]\n",
      "[0.999, 0.998, 0.997, 0.996, 0.995]\n",
      "[0.999, 0.998, 0.997, 0.996, 0.995]\n",
      "[0.999, 0.998, 0.997, 0.996, 0.995]\n",
      "[0.999, 0.998, 0.997, 0.996, 0.995]\n",
      "[0.999, 0.998, 0.997, 0.996, 0.995]\n",
      "[0.999, 0.998, 0.997, 0.996, 0.995]\n",
      "[0.999, 0.998, 0.997, 0.996, 0.995]\n",
      "[0.999, 0.998, 0.997, 0.996, 0.995]\n",
      "[0.999, 0.998, 0.997, 0.996, 0.995]\n",
      "[0.999, 0.998, 0.997, 0.996, 0.995]\n",
      "[0.999, 0.998, 0.997, 0.996, 0.995]\n",
      "[0.999, 0.998, 0.997, 0.996, 0.995]\n",
      "[0.999, 0.998, 0.997, 0.996, 0.995]\n",
      "[0.999, 0.998, 0.997, 0.996, 0.995]\n",
      "[0.999, 0.998, 0.997, 0.996, 0.995]\n",
      "[0.999, 0.998, 0.997, 0.996, 0.995]\n",
      "[0.999, 0.998, 0.997, 0.996, 0.995]\n",
      "[0.999, 0.998, 0.997, 0.996, 0.995]\n",
      "[0.999, 0.998, 0.997, 0.996, 0.995]\n",
      "[0.999, 0.998, 0.997, 0.996, 0.995]\n",
      "[0.999, 0.998, 0.997, 0.996, 0.995]\n",
      "[0.999, 0.998, 0.997, 0.996, 0.995]\n",
      "[0.999, 0.998, 0.997, 0.996, 0.995]\n",
      "[0.999, 0.998, 0.997, 0.996, 0.995]\n",
      "[0.999, 0.998, 0.997, 0.996, 0.995]\n",
      "[0.999, 0.998, 0.997, 0.996, 0.995]\n",
      "[0.999, 0.998, 0.997, 0.996, 0.995]\n",
      "[0.999, 0.998, 0.997, 0.996, 0.995]\n",
      "[0.999, 0.998, 0.997, 0.996, 0.995]\n",
      "[0.999, 0.998, 0.997, 0.996, 0.995]\n",
      "[0.999, 0.998, 0.997, 0.996, 0.995]\n",
      "[0.999, 0.998, 0.997, 0.996, 0.995]\n",
      "[0.999, 0.998, 0.997, 0.996, 0.995]\n",
      "[0.999, 0.998, 0.997, 0.996, 0.995]\n",
      "[0.999, 0.998, 0.997, 0.996, 0.995]\n",
      "[0.999, 0.998, 0.997, 0.996, 0.995]\n",
      "[0.999, 0.998, 0.997, 0.996, 0.995]\n",
      "[0.999, 0.998, 0.997, 0.996, 0.995]\n",
      "[0.999, 0.998, 0.997, 0.996, 0.995]\n",
      "[0.999, 0.998, 0.997, 0.996, 0.995]\n",
      "[0.999, 0.998, 0.997, 0.996, 0.995]\n",
      "[0.999, 0.998, 0.997, 0.996, 0.995]\n",
      "[0.999, 0.998, 0.997, 0.996, 0.995]\n",
      "[0.999, 0.998, 0.997, 0.996, 0.995]\n",
      "[0.999, 0.998, 0.997, 0.996, 0.995]\n"
     ]
    }
   ],
   "source": [
    "passages_response = {}\n",
    "for turn in data[\"turns\"]:\n",
    "    for response in turn[\"responses\"]:\n",
    "        turn_id = turn[\"turn_id\"]\n",
    "        if turn_id in selected_turns:\n",
    "            if (response[\"rank\"] == 1) or (response[\"rank\"] == \"1\"):\n",
    "                passages_response[turn_id] = {}\n",
    "                res_text = response[\"text\"]\n",
    "                passages_response[turn_id][\"response\"] = res_text\n",
    "                passages_response[turn_id][\"documents\"] = []\n",
    "                newlist = sorted(response[\"passage_provenance\"], key=lambda d: float(d['score']), reverse=True)\n",
    "                print([float(d['score']) for d in newlist[0:5]])\n",
    "                for passage in newlist[0:10]:\n",
    "                    passages_response[turn_id][\"documents\"].append(passage[\"text\"])"
   ],
   "metadata": {
    "collapsed": false,
    "ExecuteTime": {
     "start_time": "2023-11-08T15:40:44.679439Z",
     "end_time": "2023-11-08T15:40:44.699754Z"
    }
   }
  },
  {
   "cell_type": "code",
   "execution_count": 108,
   "outputs": [],
   "source": [
    "with open('passages_response.pickle', 'rb') as handle:\n",
    "    passages_response = pickle.load(handle)"
   ],
   "metadata": {
    "collapsed": false,
    "ExecuteTime": {
     "start_time": "2023-11-09T23:54:06.762331Z",
     "end_time": "2023-11-09T23:54:06.799993Z"
    }
   }
  },
  {
   "cell_type": "code",
   "execution_count": 109,
   "outputs": [
    {
     "data": {
      "text/plain": "73"
     },
     "execution_count": 109,
     "metadata": {},
     "output_type": "execute_result"
    }
   ],
   "source": [
    "len(passages_response)"
   ],
   "metadata": {
    "collapsed": false,
    "ExecuteTime": {
     "start_time": "2023-11-09T23:54:07.343686Z",
     "end_time": "2023-11-09T23:54:07.361226Z"
    }
   }
  },
  {
   "cell_type": "code",
   "execution_count": 110,
   "outputs": [
    {
     "name": "stdout",
     "output_type": "stream",
     "text": [
      "73\n"
     ]
    }
   ],
   "source": [
    "prompts_per_turn = {}\n",
    "\n",
    "\n",
    "for turn_id in passages_response:\n",
    "    prompt_2 = \"\"\n",
    "    if len(passages_response[turn_id][\"response\"])>10 and len(passages_response[turn_id][\"documents\"])>0:\n",
    "        for doc_id, doc in enumerate(passages_response[turn_id][\"documents\"]):\n",
    "            prompt_2 += \"document \"+str(doc_id+1) +\": \"+ doc.strip() + \"\\n\"\n",
    "\n",
    "        prompt_2 += \"\\nResponse: \" + passages_response[turn_id][\"response\"] + \"\\n\"\n",
    "\n",
    "        prompts_per_turn[turn_id] = prompt_2\n",
    "\n",
    "prompt_1 = \"\"\"I will give you a text and a set of documents. I want to know if the text is generated from the given documents. You should tell me to what extent the text is grounded to the documents by selecting one of the given choices.\\n\\n\"\"\"\n",
    "\n",
    "prompt_3 = \"\"\"1. Does the text include any inforation that is not mentioned in the given documents? Please explain your answer.\n",
    "2. Answer the previous question with yes or no.\"\"\"\n",
    "\n",
    "prompts_arr = []\n",
    "\n",
    "for turn_id in prompts_per_turn:\n",
    "    prompt_tmp = prompt_1 + prompts_per_turn[turn_id] + prompt_3\n",
    "    prompts_arr.append([turn_id, prompt_tmp])\n",
    "\n",
    "\n",
    "print(len(prompts_arr))\n",
    "\n",
    "\n",
    "answers = {}"
   ],
   "metadata": {
    "collapsed": false,
    "ExecuteTime": {
     "start_time": "2023-11-09T23:54:10.297157Z",
     "end_time": "2023-11-09T23:54:10.311370Z"
    }
   }
  },
  {
   "cell_type": "code",
   "execution_count": 111,
   "outputs": [
    {
     "data": {
      "text/plain": "0"
     },
     "execution_count": 111,
     "metadata": {},
     "output_type": "execute_result"
    }
   ],
   "source": [
    "len(answers)"
   ],
   "metadata": {
    "collapsed": false,
    "ExecuteTime": {
     "start_time": "2023-11-09T23:54:12.509507Z",
     "end_time": "2023-11-09T23:54:12.555116Z"
    }
   }
  },
  {
   "cell_type": "code",
   "execution_count": null,
   "outputs": [],
   "source": [
    "prompts_arr"
   ],
   "metadata": {
    "collapsed": false,
    "ExecuteTime": {
     "start_time": "2023-11-08T15:41:01.579087Z",
     "end_time": "2023-11-08T15:41:01.759115Z"
    }
   }
  },
  {
   "cell_type": "code",
   "execution_count": null,
   "outputs": [],
   "source": [
    "for i in range(0, len(prompts_arr)):\n",
    "    turn_id = prompts_arr[i][0]\n",
    "    prompt = prompts_arr[i][1]\n",
    "    print(\"index is: \", i)\n",
    "    answer = run_one_sample(prompt)\n",
    "    answers[turn_id] = answer\n",
    "    print(turn_id)\n",
    "    print(\"*******************************************************\")"
   ],
   "metadata": {
    "collapsed": false,
    "ExecuteTime": {
     "start_time": "2023-11-10T00:04:43.430140Z",
     "end_time": "2023-11-10T00:10:39.957495Z"
    }
   }
  },
  {
   "cell_type": "code",
   "execution_count": 115,
   "outputs": [],
   "source": [
    "with open('llm-judgment-on-groundedness-of-submission_X.pickle',  'wb') as handle:\n",
    "    pickle.dump(answers, handle, protocol=pickle.HIGHEST_PROTOCOL)"
   ],
   "metadata": {
    "collapsed": false,
    "ExecuteTime": {
     "start_time": "2023-11-10T00:10:39.927360Z",
     "end_time": "2023-11-10T00:10:39.961766Z"
    }
   }
  },
  {
   "cell_type": "code",
   "execution_count": 116,
   "outputs": [],
   "source": [
    "X = []\n",
    "\n",
    "for turn_id in answers:\n",
    "    answer = answers[turn_id]\n",
    "    tmp_ans = answer.split(\"\\n\")[-1]\n",
    "    X.append(tmp_ans.split(\"2.\")[1].strip().rstrip(\".\"))"
   ],
   "metadata": {
    "collapsed": false,
    "ExecuteTime": {
     "start_time": "2023-11-10T00:10:39.928129Z",
     "end_time": "2023-11-10T00:10:39.962073Z"
    }
   }
  },
  {
   "cell_type": "code",
   "execution_count": 119,
   "outputs": [
    {
     "name": "stdout",
     "output_type": "stream",
     "text": [
      "49\n",
      "24\n"
     ]
    }
   ],
   "source": [
    "print(X.count('No'))\n",
    "print(X.count('Yes'))"
   ],
   "metadata": {
    "collapsed": false,
    "ExecuteTime": {
     "start_time": "2023-11-10T00:11:16.489475Z",
     "end_time": "2023-11-10T00:11:16.890198Z"
    }
   }
  },
  {
   "cell_type": "code",
   "execution_count": 120,
   "outputs": [
    {
     "name": "stdout",
     "output_type": "stream",
     "text": [
      "['No', 'No', 'No', 'Yes', 'No', 'No', 'No', 'No', 'No', 'No', 'Yes', 'No', 'No', 'No', 'No', 'Yes', 'No', 'No', 'No', 'No', 'No', 'Yes', 'Yes', 'No', 'No', 'Yes', 'No', 'No', 'No', 'Yes', 'Yes', 'No', 'No', 'Yes', 'No', 'Yes', 'No', 'No', 'No', 'Yes', 'No', 'Yes', 'Yes', 'Yes', 'No', 'Yes', 'No', 'No', 'No', 'Yes', 'No', 'No', 'No', 'No', 'Yes', 'No', 'Yes', 'Yes', 'Yes', 'No', 'No', 'No', 'No', 'Yes', 'No', 'Yes', 'Yes', 'No', 'No', 'No', 'Yes', 'No', 'No']\n"
     ]
    }
   ],
   "source": [
    "print(X)"
   ],
   "metadata": {
    "collapsed": false,
    "ExecuteTime": {
     "start_time": "2023-11-10T00:11:18.171819Z",
     "end_time": "2023-11-10T00:11:18.203453Z"
    }
   }
  },
  {
   "cell_type": "code",
   "execution_count": null,
   "outputs": [],
   "source": [],
   "metadata": {
    "collapsed": false
   }
  }
 ],
 "metadata": {
  "kernelspec": {
   "display_name": "Python 3",
   "language": "python",
   "name": "python3"
  },
  "language_info": {
   "codemirror_mode": {
    "name": "ipython",
    "version": 2
   },
   "file_extension": ".py",
   "mimetype": "text/x-python",
   "name": "python",
   "nbconvert_exporter": "python",
   "pygments_lexer": "ipython2",
   "version": "2.7.6"
  }
 },
 "nbformat": 4,
 "nbformat_minor": 0
}
